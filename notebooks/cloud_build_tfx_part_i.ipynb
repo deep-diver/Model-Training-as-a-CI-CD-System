{
 "cells": [
  {
   "cell_type": "markdown",
   "metadata": {},
   "source": [
    "In this notebook, we will walk you through the steps to launch a [Cloud Build](https://cloud.google.com/build) job to:\n",
    "\n",
    "* Clone the repository where the code is hosted.\n",
    "* Compile a TFX (TensorFlow Extended) pipeline.\n",
    "* Build a Docker image with custom TFX components.\n",
    "* Submit the pipeline to Vertex AI for execution. \n",
    "\n",
    "Below you can find a pictorial overview of the overall workflow:\n",
    "\n",
    "![](https://i.ibb.co/bzS8vzZ/first-workflow.png)\n",
    "\n",
    "**Note** that we won't be covering the part related to GitHub Actions. For that, we refer the interested readers to our blog post instead.\n",
    "\n",
    "For the best experience, we suggest running this notebook from [Vertex AI Notebooks](https://cloud.google.com/vertex-ai/docs/general/notebooks).\n"
   ]
  },
  {
   "cell_type": "markdown",
   "metadata": {},
   "source": [
    "## Step 0\n",
    "\n",
    "We first need to have a Docker image ready which we could use with Cloud Build to perform the mentioned steps. We first write a `Dockerfile` which is going to be used to build and push the image to Google Container Registry (GCR)."
   ]
  },
  {
   "cell_type": "code",
   "execution_count": null,
   "metadata": {},
   "outputs": [],
   "source": [
    "%%writefile Dockerfile\n",
    "\n",
    "FROM tensorflow/tfx:1.2.0\n",
    "RUN pip install kfp==1.7.1 pytest"
   ]
  },
  {
   "cell_type": "code",
   "execution_count": null,
   "metadata": {},
   "outputs": [],
   "source": [
    "TFX_IMAGE_URI = \"gcr.io/{gcp-project}/{name}\"\n",
    "!gcloud builds submit --tag $TFX_IMAGE_URI . --timeout=15m --machine-type=e2-highcpu-8"
   ]
  },
  {
   "cell_type": "markdown",
   "metadata": {},
   "source": [
    "This may take some time. "
   ]
  },
  {
   "cell_type": "markdown",
   "metadata": {},
   "source": [
    "## Step 1\n",
    "\n",
    "With the initial Docker image ready, we are good to proceed to the next steps. Here we will be manually triggering a build and for that we need to define a couple of variables. But note that this project is configured with a GitHub Action workflow that monitors code changes made to a certain directory and triggers builds automatically based on that."
   ]
  },
  {
   "cell_type": "code",
   "execution_count": null,
   "metadata": {},
   "outputs": [],
   "source": [
    "# You'd need to change these values accordingly.\n",
    "\n",
    "SUBSTITUTIONS= \"\"\"\n",
    "   _PROJECT=gcp-ml-172005,\n",
    "   _REGION=us-central1,\n",
    "   _REPO_URL=https://github.com/deep-diver/Model-Training-as-a-CI-CD-System,\n",
    "   _BRANCH=main,\n",
    "   _PIPELINE_NAME=tfx-pipeline\n",
    "\"\"\""
   ]
  },
  {
   "cell_type": "markdown",
   "metadata": {},
   "source": [
    "## Step 2\n",
    "\n",
    "Clone the repository to get the build specification. You can know more about specification files needed for Cloud Build from [here](https://cloud.google.com/build/docs/build-config-file-schema)."
   ]
  },
  {
   "cell_type": "code",
   "execution_count": null,
   "metadata": {},
   "outputs": [],
   "source": [
    "!git clone https://github.com/deep-diver/Model-Training-as-a-CI-CD-System"
   ]
  },
  {
   "cell_type": "markdown",
   "metadata": {},
   "source": [
    "## Step 3\n",
    "\n",
    "Now, we can submit to Cloud Build."
   ]
  },
  {
   "cell_type": "code",
   "execution_count": null,
   "metadata": {},
   "outputs": [],
   "source": [
    "%cd Model-Training-as-a-CI-CD-System\n",
    "!gcloud builds submit --no-source --timeout=60m \\\n",
    "    --config build/pipeline-deployment.yaml \\\n",
    "    --substitutions $SUBSTITUTIONS \\\n",
    "    --machine-type=n1-highcpu-8"
   ]
  }
 ],
 "metadata": {
  "kernelspec": {
   "display_name": "Python 3",
   "language": "python",
   "name": "python3"
  },
  "language_info": {
   "codemirror_mode": {
    "name": "ipython",
    "version": 3
   },
   "file_extension": ".py",
   "mimetype": "text/x-python",
   "name": "python",
   "nbconvert_exporter": "python",
   "pygments_lexer": "ipython3",
   "version": "3.8.6"
  }
 },
 "nbformat": 4,
 "nbformat_minor": 4
}
