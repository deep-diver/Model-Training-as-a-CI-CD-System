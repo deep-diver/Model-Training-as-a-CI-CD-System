{
  "nbformat": 4,
  "nbformat_minor": 0,
  "metadata": {
    "colab": {
      "name": "cloud_build_tfx.ipynb",
      "provenance": [],
      "collapsed_sections": [],
      "machine_shape": "hm",
      "include_colab_link": true
    },
    "kernelspec": {
      "name": "python3",
      "display_name": "Python 3"
    },
    "language_info": {
      "name": "python"
    },
    "accelerator": "GPU"
  },
  "cells": [
    {
      "cell_type": "markdown",
      "metadata": {
        "id": "view-in-github",
        "colab_type": "text"
      },
      "source": [
        "<a href=\"https://colab.research.google.com/github/deep-diver/Model-Training-as-a-CI-CD-System/blob/main/notebooks/cloud_build_tfx.ipynb\" target=\"_parent\"><img src=\"https://colab.research.google.com/assets/colab-badge.svg\" alt=\"Open In Colab\"/></a>"
      ]
    },
    {
      "cell_type": "markdown",
      "metadata": {
        "id": "j59AaHsxePSW"
      },
      "source": [
        "## References\n",
        "\n",
        "* https://www.tensorflow.org/tfx/tutorials/tfx/gcp/vertex_pipelines_vertex_training\n",
        "* https://github.com/GoogleCloudPlatform/mlops-with-vertex-ai/"
      ]
    },
    {
      "cell_type": "markdown",
      "metadata": {
        "id": "-tR7ZgI4DCPz"
      },
      "source": [
        "## Setting up"
      ]
    },
    {
      "cell_type": "code",
      "metadata": {
        "id": "4DDXrX_Ee359"
      },
      "source": [
        "!gcloud init"
      ],
      "execution_count": null,
      "outputs": []
    },
    {
      "cell_type": "code",
      "metadata": {
        "id": "1oy0ymAXdXKA"
      },
      "source": [
        "from google.colab import auth\n",
        "auth.authenticate_user()"
      ],
      "execution_count": null,
      "outputs": []
    },
    {
      "cell_type": "code",
      "metadata": {
        "id": "xhp1xhz6B1u5"
      },
      "source": [
        "GOOGLE_CLOUD_PROJECT = 'fast-ai-exploration'    \n",
        "GOOGLE_CLOUD_REGION = 'us-central1'      \n",
        "GCS_BUCKET_NAME = 'vertex-tfx-mlops'     \n",
        "\n",
        "PIPELINE_NAME = 'penguin-vertex-training'\n",
        "DATA_ROOT = 'gs://{}/data/{}'.format(GCS_BUCKET_NAME, PIPELINE_NAME)\n",
        "MODULE_ROOT = 'gs://{}/pipeline_module/{}'.format(GCS_BUCKET_NAME, PIPELINE_NAME)\n",
        "\n",
        "if not (GOOGLE_CLOUD_PROJECT and GOOGLE_CLOUD_REGION and GCS_BUCKET_NAME):\n",
        "    from absl import logging\n",
        "    logging.error('Please set all required parameters.')"
      ],
      "execution_count": null,
      "outputs": []
    },
    {
      "cell_type": "code",
      "metadata": {
        "colab": {
          "base_uri": "https://localhost:8080/"
        },
        "id": "Yu5Ojm61fH-S",
        "outputId": "94d23b24-b3e6-4b2b-a8d9-b32bcbdc2581"
      },
      "source": [
        "!gsutil cp gs://download.tensorflow.org/data/palmer_penguins/penguins_processed.csv {DATA_ROOT}/"
      ],
      "execution_count": null,
      "outputs": [
        {
          "output_type": "stream",
          "text": [
            "Copying gs://download.tensorflow.org/data/palmer_penguins/penguins_processed.csv [Content-Type=application/octet-stream]...\n",
            "/ [1 files][ 25.0 KiB/ 25.0 KiB]                                                \n",
            "Operation completed over 1 objects/25.0 KiB.                                     \n"
          ],
          "name": "stdout"
        }
      ]
    },
    {
      "cell_type": "markdown",
      "metadata": {
        "id": "vkMnLHuGDGXW"
      },
      "source": [
        "## Training module for TFX"
      ]
    },
    {
      "cell_type": "code",
      "metadata": {
        "id": "U6L7hhCufOeD"
      },
      "source": [
        "_trainer_module_file = 'penguin_trainer.py'"
      ],
      "execution_count": null,
      "outputs": []
    },
    {
      "cell_type": "code",
      "metadata": {
        "colab": {
          "base_uri": "https://localhost:8080/"
        },
        "id": "SjAFV2szfRT7",
        "outputId": "96a94529-2278-404b-c37f-4fd7f010a956"
      },
      "source": [
        "%%writefile {_trainer_module_file}\n",
        "\n",
        "# Copied from https://www.tensorflow.org/tfx/tutorials/tfx/penguin_simple and\n",
        "# slightly modified run_fn() to add distribution_strategy.\n",
        "\n",
        "from typing import List\n",
        "from absl import logging\n",
        "import tensorflow as tf\n",
        "from tensorflow import keras\n",
        "from tensorflow_metadata.proto.v0 import schema_pb2\n",
        "from tensorflow_transform.tf_metadata import schema_utils\n",
        "\n",
        "from tfx import v1 as tfx\n",
        "from tfx_bsl.public import tfxio\n",
        "\n",
        "_FEATURE_KEYS = [\n",
        "    'culmen_length_mm', 'culmen_depth_mm', 'flipper_length_mm', 'body_mass_g'\n",
        "]\n",
        "_LABEL_KEY = 'species'\n",
        "\n",
        "_TRAIN_BATCH_SIZE = 20\n",
        "_EVAL_BATCH_SIZE = 10\n",
        "\n",
        "# Since we're not generating or creating a schema, we will instead create\n",
        "# a feature spec.  Since there are a fairly small number of features this is\n",
        "# manageable for this dataset.\n",
        "_FEATURE_SPEC = {\n",
        "    **{\n",
        "        feature: tf.io.FixedLenFeature(shape=[1], dtype=tf.float32)\n",
        "        for feature in _FEATURE_KEYS\n",
        "    }, _LABEL_KEY: tf.io.FixedLenFeature(shape=[1], dtype=tf.int64)\n",
        "}\n",
        "\n",
        "\n",
        "def _input_fn(file_pattern: List[str],\n",
        "              data_accessor: tfx.components.DataAccessor,\n",
        "              schema: schema_pb2.Schema,\n",
        "              batch_size: int) -> tf.data.Dataset:\n",
        "  \"\"\"Generates features and label for training.\n",
        "\n",
        "  Args:\n",
        "    file_pattern: List of paths or patterns of input tfrecord files.\n",
        "    data_accessor: DataAccessor for converting input to RecordBatch.\n",
        "    schema: schema of the input data.\n",
        "    batch_size: representing the number of consecutive elements of returned\n",
        "      dataset to combine in a single batch\n",
        "\n",
        "  Returns:\n",
        "    A dataset that contains (features, indices) tuple where features is a\n",
        "      dictionary of Tensors, and indices is a single Tensor of label indices.\n",
        "  \"\"\"\n",
        "  return data_accessor.tf_dataset_factory(\n",
        "      file_pattern,\n",
        "      tfxio.TensorFlowDatasetOptions(\n",
        "          batch_size=batch_size, label_key=_LABEL_KEY),\n",
        "      schema=schema).repeat()\n",
        "\n",
        "\n",
        "def _make_keras_model() -> tf.keras.Model:\n",
        "  \"\"\"Creates a DNN Keras model for classifying penguin data.\n",
        "\n",
        "  Returns:\n",
        "    A Keras Model.\n",
        "  \"\"\"\n",
        "  # The model below is built with Functional API, please refer to\n",
        "  # https://www.tensorflow.org/guide/keras/overview for all API options.\n",
        "  inputs = [keras.layers.Input(shape=(1,), name=f) for f in _FEATURE_KEYS]\n",
        "  d = keras.layers.concatenate(inputs)\n",
        "  for _ in range(2):\n",
        "    d = keras.layers.Dense(8, activation='relu')(d)\n",
        "  outputs = keras.layers.Dense(3)(d)\n",
        "\n",
        "  model = keras.Model(inputs=inputs, outputs=outputs)\n",
        "  model.compile(\n",
        "      optimizer=keras.optimizers.Adam(1e-2),\n",
        "      loss=tf.keras.losses.SparseCategoricalCrossentropy(from_logits=True),\n",
        "      metrics=[keras.metrics.SparseCategoricalAccuracy()])\n",
        "\n",
        "  model.summary(print_fn=logging.info)\n",
        "  return model\n",
        "\n",
        "\n",
        "# NEW: Read `use_gpu` from the custom_config of the Trainer.\n",
        "#      if it uses GPU, enable MirroredStrategy.\n",
        "def _get_distribution_strategy(fn_args: tfx.components.FnArgs):\n",
        "  if fn_args.custom_config.get('use_gpu', False):\n",
        "    logging.info('Using MirroredStrategy with one GPU.')\n",
        "    return tf.distribute.MirroredStrategy(devices=['device:GPU:0'])\n",
        "  return None\n",
        "\n",
        "\n",
        "# TFX Trainer will call this function.\n",
        "def run_fn(fn_args: tfx.components.FnArgs):\n",
        "  \"\"\"Train the model based on given args.\n",
        "\n",
        "  Args:\n",
        "    fn_args: Holds args used to train the model as name/value pairs.\n",
        "  \"\"\"\n",
        "\n",
        "  # This schema is usually either an output of SchemaGen or a manually-curated\n",
        "  # version provided by pipeline author. A schema can also derived from TFT\n",
        "  # graph if a Transform component is used. In the case when either is missing,\n",
        "  # `schema_from_feature_spec` could be used to generate schema from very simple\n",
        "  # feature_spec, but the schema returned would be very primitive.\n",
        "  schema = schema_utils.schema_from_feature_spec(_FEATURE_SPEC)\n",
        "\n",
        "  train_dataset = _input_fn(\n",
        "      fn_args.train_files,\n",
        "      fn_args.data_accessor,\n",
        "      schema,\n",
        "      batch_size=_TRAIN_BATCH_SIZE)\n",
        "  eval_dataset = _input_fn(\n",
        "      fn_args.eval_files,\n",
        "      fn_args.data_accessor,\n",
        "      schema,\n",
        "      batch_size=_EVAL_BATCH_SIZE)\n",
        "\n",
        "  # NEW: If we have a distribution strategy, build a model in a strategy scope.\n",
        "  strategy = _get_distribution_strategy(fn_args)\n",
        "  if strategy is None:\n",
        "    model = _make_keras_model()\n",
        "  else:\n",
        "    with strategy.scope():\n",
        "      model = _make_keras_model()\n",
        "\n",
        "  model.fit(\n",
        "      train_dataset,\n",
        "      steps_per_epoch=fn_args.train_steps,\n",
        "      validation_data=eval_dataset,\n",
        "      validation_steps=fn_args.eval_steps,\n",
        "      epochs=1)\n",
        "\n",
        "  # The result of the training should be saved in `fn_args.serving_model_dir`\n",
        "  # directory.\n",
        "  model.save(fn_args.serving_model_dir, save_format='tf')"
      ],
      "execution_count": null,
      "outputs": [
        {
          "output_type": "stream",
          "text": [
            "Writing penguin_trainer.py\n"
          ],
          "name": "stdout"
        }
      ]
    },
    {
      "cell_type": "code",
      "metadata": {
        "colab": {
          "base_uri": "https://localhost:8080/"
        },
        "id": "Khip4KnDfWAw",
        "outputId": "c814e540-d4b1-4ea6-e759-01345c288764"
      },
      "source": [
        "!gsutil cp {_trainer_module_file} {MODULE_ROOT}/"
      ],
      "execution_count": null,
      "outputs": [
        {
          "output_type": "stream",
          "text": [
            "Copying file://penguin_trainer.py [Content-Type=text/x-python]...\n",
            "/ [0 files][    0.0 B/  4.4 KiB]                                                \r/ [1 files][  4.4 KiB/  4.4 KiB]                                                \r\n",
            "Operation completed over 1 objects/4.4 KiB.                                      \n"
          ],
          "name": "stdout"
        }
      ]
    },
    {
      "cell_type": "markdown",
      "metadata": {
        "id": "j6jgBaknDJaz"
      },
      "source": [
        "## Cloud Build configurations"
      ]
    },
    {
      "cell_type": "code",
      "metadata": {
        "id": "uqNAjXJO7aHH"
      },
      "source": [
        "REPO_URL = \"https://github.com/sayakpaul/CI-CD-for-Model-Training\" \n",
        "BRANCH = \"main\"\n",
        "\n",
        "PIPELINE_ROOT = 'gs://{}/pipeline_root/{}'.format(GCS_BUCKET_NAME, PIPELINE_NAME)\n",
        "\n",
        "SERVING_MODEL_DIR = 'gs://{}/serving_model/{}'.format(\n",
        "    GCS_BUCKET_NAME, PIPELINE_NAME)\n",
        "CICD_IMAGE_URI = 'gcr.io/tfx-oss-public/tfx:1.0.0'"
      ],
      "execution_count": null,
      "outputs": []
    },
    {
      "cell_type": "code",
      "metadata": {
        "colab": {
          "base_uri": "https://localhost:8080/"
        },
        "id": "sZcjZcO87L3A",
        "outputId": "2035b1aa-1988-409a-f9f9-3b54db0477d7"
      },
      "source": [
        "SUBSTITUTIONS=f\"\"\"\\\n",
        "_REPO_URL='{REPO_URL}',\\\n",
        "_BRANCH={BRANCH},\\\n",
        "_PROJECT={GOOGLE_CLOUD_PROJECT},\\\n",
        "_REGION={GOOGLE_CLOUD_REGION},\\\n",
        "_PIPELINE_NAME={PIPELINE_NAME},\\\n",
        "_PIPELINE_ROOT={PIPELINE_ROOT},\\\n",
        "_MODULE_ROOT={MODULE_ROOT},\\\n",
        "_DATA_ROOT={DATA_ROOT},\\\n",
        "_SERVING_MODEL_DIR={SERVING_MODEL_DIR},\\\n",
        "_CICD_IMAGE_URI={CICD_IMAGE_URI}\n",
        "\"\"\"\n",
        "\n",
        "!echo $SUBSTITUTIONS"
      ],
      "execution_count": null,
      "outputs": [
        {
          "output_type": "stream",
          "text": [
            "_REPO_URL=https://github.com/sayakpaul/CI-CD-for-Model-Training,_BRANCH=dev,_PROJECT=fast-ai-exploration,_REGION=us-central1,_PIPELINE_NAME=penguin-vertex-training,_PIPELINE_ROOT=gs://vertex-tfx-mlops/pipeline_root/penguin-vertex-training,_MODULE_ROOT=gs://vertex-tfx-mlops/pipeline_module/penguin-vertex-training,_DATA_ROOT=gs://vertex-tfx-mlops/data/penguin-vertex-training,_SERVING_MODEL_DIR=gs://vertex-tfx-mlops/serving_model/penguin-vertex-training,_CICD_IMAGE_URI=gcr.io/tfx-oss-public/tfx:1.0.0\n"
          ],
          "name": "stdout"
        }
      ]
    },
    {
      "cell_type": "markdown",
      "metadata": {
        "id": "gEjWZxeNDN41"
      },
      "source": [
        "## Submit to Cloud Build\n",
        "\n",
        "The output of Cloud Build, in this case, is a compiled pipeline uploaded to GCS Bucket."
      ]
    },
    {
      "cell_type": "code",
      "metadata": {
        "id": "plY19wz89cK_"
      },
      "source": [
        "!git clone https://github.com/sayakpaul/CI-CD-for-Model-Training --quiet"
      ],
      "execution_count": null,
      "outputs": []
    },
    {
      "cell_type": "code",
      "metadata": {
        "id": "AldFybUB8P22"
      },
      "source": [
        "!gcloud builds submit --no-source --timeout=60m \\\n",
        "    --config CI-CD-for-Model-Training/build/pipeline-deployment.yaml \\\n",
        "    --substitutions {SUBSTITUTIONS} --machine-type=e2-highcpu-8"
      ],
      "execution_count": null,
      "outputs": []
    }
  ]
}